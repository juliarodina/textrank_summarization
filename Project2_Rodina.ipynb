{
 "cells": [
  {
   "cell_type": "markdown",
   "metadata": {},
   "source": [
    "# Graph-based text summarization on the material of Russian news"
   ]
  },
  {
   "cell_type": "code",
   "execution_count": 1,
   "metadata": {},
   "outputs": [],
   "source": [
    "import pandas as pd\n",
    "from nltk.corpus import stopwords\n",
    "from nltk.cluster.util import cosine_distance\n",
    "from nltk.tokenize import wordpunct_tokenize\n",
    "import numpy as np\n",
    "import networkx as nx\n",
    "import gzip\n",
    "from nltk.tokenize.punkt import PunktSentenceTokenizer\n",
    "from sklearn.feature_extraction.text import TfidfTransformer, CountVectorizer\n",
    "import string"
   ]
  },
  {
   "cell_type": "markdown",
   "metadata": {},
   "source": [
    "## Reformat data to csv"
   ]
  },
  {
   "cell_type": "code",
   "execution_count": 2,
   "metadata": {},
   "outputs": [],
   "source": [
    "# import os\n",
    "# import gzip\n",
    "# import pandas as pd\n",
    "\n",
    "# data = []\n",
    "# directory = 'meduza/2019/'\n",
    "# for filename in os.listdir(directory):\n",
    "#     file = gzip.open(os.path.join(directory, filename), \"rt\")\n",
    "#     filedata = file.readlines()\n",
    "#     data.append(filedata[0])\n",
    "\n",
    "# df = pd.DataFrame()\n",
    "# df['text'] = data\n",
    "# df.to_csv('meduza_news_2019.csv', index=False)"
   ]
  },
  {
   "cell_type": "code",
   "execution_count": 3,
   "metadata": {},
   "outputs": [],
   "source": [
    "df = pd.read_csv('meduza_news_2019.csv')"
   ]
  },
  {
   "cell_type": "code",
   "execution_count": 4,
   "metadata": {},
   "outputs": [
    {
     "data": {
      "text/html": [
       "<div>\n",
       "<style scoped>\n",
       "    .dataframe tbody tr th:only-of-type {\n",
       "        vertical-align: middle;\n",
       "    }\n",
       "\n",
       "    .dataframe tbody tr th {\n",
       "        vertical-align: top;\n",
       "    }\n",
       "\n",
       "    .dataframe thead th {\n",
       "        text-align: right;\n",
       "    }\n",
       "</style>\n",
       "<table border=\"1\" class=\"dataframe\">\n",
       "  <thead>\n",
       "    <tr style=\"text-align: right;\">\n",
       "      <th></th>\n",
       "      <th>text</th>\n",
       "    </tr>\n",
       "  </thead>\n",
       "  <tbody>\n",
       "    <tr>\n",
       "      <th>0</th>\n",
       "      <td>Федеральные телеканалы показывали новости об у...</td>\n",
       "    </tr>\n",
       "    <tr>\n",
       "      <th>1</th>\n",
       "      <td>Полицейские отпустили участников одиночных пик...</td>\n",
       "    </tr>\n",
       "    <tr>\n",
       "      <th>2</th>\n",
       "      <td>Таксист из Москвы заявил в полицию, что 20 ноя...</td>\n",
       "    </tr>\n",
       "    <tr>\n",
       "      <th>3</th>\n",
       "      <td>Samsung Galaxy S10, представленный 20 февраля ...</td>\n",
       "    </tr>\n",
       "    <tr>\n",
       "      <th>4</th>\n",
       "      <td>На новейшего «Аладдина» от студии «Дисней» мож...</td>\n",
       "    </tr>\n",
       "  </tbody>\n",
       "</table>\n",
       "</div>"
      ],
      "text/plain": [
       "                                                text\n",
       "0  Федеральные телеканалы показывали новости об у...\n",
       "1  Полицейские отпустили участников одиночных пик...\n",
       "2  Таксист из Москвы заявил в полицию, что 20 ноя...\n",
       "3  Samsung Galaxy S10, представленный 20 февраля ...\n",
       "4  На новейшего «Аладдина» от студии «Дисней» мож..."
      ]
     },
     "execution_count": 4,
     "metadata": {},
     "output_type": "execute_result"
    }
   ],
   "source": [
    "df.head()"
   ]
  },
  {
   "cell_type": "code",
   "execution_count": 5,
   "metadata": {},
   "outputs": [
    {
     "data": {
      "text/plain": [
       "10769"
      ]
     },
     "execution_count": 5,
     "metadata": {},
     "output_type": "execute_result"
    }
   ],
   "source": [
    "len(df)"
   ]
  },
  {
   "cell_type": "markdown",
   "metadata": {},
   "source": [
    "## Method 1 (basic)  \n",
    "Input article → split into sentences → remove stop words → build a similarity matrix → generate rank based on matrix → pick top N sentences for summary.  \n",
    "source: https://towardsdatascience.com/understand-text-summarization-and-create-your-own-summarizer-in-python-b26a9f09fc70"
   ]
  },
  {
   "cell_type": "code",
   "execution_count": 36,
   "metadata": {},
   "outputs": [],
   "source": [
    "def read_article(text):\n",
    "    article = text.split(\". \")\n",
    "    sentences = []\n",
    "\n",
    "    for sentence in article:\n",
    "        # print(sentence)\n",
    "        sentences.append(sentence.replace(\"[^а-яА-Я]\", \" \").split(\" \"))\n",
    "    sentences.pop() \n",
    "    \n",
    "    return sentences\n",
    "\n",
    "def sentence_similarity(sent1, sent2, stopwords=None):\n",
    "    if stopwords is None:\n",
    "        stopwords = []\n",
    " \n",
    "    sent1 = [w.lower() for w in sent1]\n",
    "    sent2 = [w.lower() for w in sent2]\n",
    " \n",
    "    all_words = list(set(sent1 + sent2))\n",
    " \n",
    "    vector1 = [0] * len(all_words)\n",
    "    vector2 = [0] * len(all_words)\n",
    " \n",
    "    # build the vector for the first sentence\n",
    "    for w in sent1:\n",
    "        if w in stopwords:\n",
    "            continue\n",
    "        vector1[all_words.index(w)] += 1\n",
    " \n",
    "    # build the vector for the second sentence\n",
    "    for w in sent2:\n",
    "        if w in stopwords:\n",
    "            continue\n",
    "        vector2[all_words.index(w)] += 1\n",
    " \n",
    "    return 1 - cosine_distance(vector1, vector2)\n",
    " \n",
    "def build_similarity_matrix(sentences, stop_words):\n",
    "    # Create an empty similarity matrix\n",
    "    similarity_matrix = np.zeros((len(sentences), len(sentences)))\n",
    " \n",
    "    for idx1 in range(len(sentences)):\n",
    "        for idx2 in range(len(sentences)):\n",
    "            if idx1 == idx2: #ignore if both are same sentences\n",
    "                continue \n",
    "            similarity_matrix[idx1][idx2] = sentence_similarity(sentences[idx1], sentences[idx2], stop_words)\n",
    "\n",
    "    return similarity_matrix\n",
    "\n",
    "\n",
    "def generate_summary(file_name, top_n):\n",
    "    stop_words = stopwords.words('russian')\n",
    "    summarize_text = []\n",
    "\n",
    "    # Step 1 - Read text anc split it\n",
    "    sentences =  read_article(file_name)\n",
    "\n",
    "    # Step 2 - Generate Similary Martix across sentences\n",
    "    sentence_similarity_martix = build_similarity_matrix(sentences, stop_words)\n",
    "\n",
    "    # Step 3 - Rank sentences in similarity martix\n",
    "    sentence_similarity_graph = nx.from_numpy_array(sentence_similarity_martix)\n",
    "    # nx.draw_networkx(sentence_similarity_graph)\n",
    "    scores = nx.pagerank(sentence_similarity_graph)\n",
    "\n",
    "    # Step 4 - Sort the rank and pick top sentences\n",
    "    ranked_sentence = sorted(((scores[i],s) for i,s in enumerate(sentences)), reverse=True)    \n",
    "    # print(\"Indexes of top ranked_sentence order are \", ranked_sentence)    \n",
    "\n",
    "    for i in range(top_n):\n",
    "        summarize_text.append(\" \".join(ranked_sentence[i][1]))\n",
    "\n",
    "    # Step 5 - Offcourse, output the summarize texr\n",
    "    # print(\"Summarized Text: \\n\", \". \".join(summarize_text))\n",
    "    \n",
    "    return summarize_text"
   ]
  },
  {
   "cell_type": "code",
   "execution_count": 26,
   "metadata": {},
   "outputs": [
    {
     "name": "stdout",
     "output_type": "stream",
     "text": [
      "Видеоблогер BadComedian (Евгений Баженов) заявил, что против него подали судебный иск на один миллион рублей из-за обзора фильма «За гранью реальности»\n",
      "Об этом Баженов рассказал в ролике на ютьюбе\n",
      "«Здравствуйте\n",
      "Меня зовут BadComedian и мне тут подумалось: а не закрыть ли мне канал? Почему? Потому что уже полгода меня судят», — сказал блогер\n",
      "Иск в январе 2019 года подала кинокомпания KINODANZ (с 2019 года KD Studios), снявшая фильм «За гранью реальности»\n",
      "По словам Баженова, его обвиняют в нарушении авторских прав из-за того, что в своем обзоре он использовал кадры из киноленты\n",
      "BadComedian назвал поданный иск «попыткой цензурировать критику»\n",
      "Блогер утверждает, что представители KINODANZ говорили ему, что за компанией «стоят очень влиятельные люди» и ее поддерживает Минкульт РФ\n",
      "В поддержку BadComedian выступил продюсер Александр Роднянский\n",
      "«Попытки заставить Евгения Баженова прекратить публиковать свои обзоры — это, если уж называть вещи своими именами, трусость, непрофессионализм и цензура», — заявил он\n",
      "BadComedian выпустил обзор на фильм «За гранью реальности» в мае 2018 года\n",
      "В своем ролике автор, в частности, критиковал министерство культуры и Фонд кино за выделение средств на съемки этой картины.\n",
      "Indexes of top ranked_sentence order are  [(0.18736148938950253, ['BadComedian', 'выпустил', 'обзор', 'на', 'фильм', '«За', 'гранью', 'реальности»', 'в', 'мае', '2018', 'года']), (0.17688562001083288, ['Видеоблогер', 'BadComedian', '(Евгений', 'Баженов)', 'заявил,', 'что', 'против', 'него', 'подали', 'судебный', 'иск', 'на', 'один', 'миллион', 'рублей', 'из-за', 'обзора', 'фильма', '«За', 'гранью', 'реальности»']), (0.1393616090310368, ['Иск', 'в', 'январе', '2019', 'года', 'подала', 'кинокомпания', 'KINODANZ', '(с', '2019', 'года', 'KD', 'Studios),', 'снявшая', 'фильм', '«За', 'гранью', 'реальности»']), (0.13498027645474786, ['Меня', 'зовут', 'BadComedian', 'и', 'мне', 'тут', 'подумалось:', 'а', 'не', 'закрыть', 'ли', 'мне', 'канал?', 'Почему?', 'Потому', 'что', 'уже', 'полгода', 'меня', 'судят»,', '—', 'сказал', 'блогер']), (0.12283129361418929, ['BadComedian', 'назвал', 'поданный', 'иск', '«попыткой', 'цензурировать', 'критику»']), (0.09876637395110614, ['В', 'поддержку', 'BadComedian', 'выступил', 'продюсер', 'Александр', 'Роднянский']), (0.04057140092075254, ['«Попытки', 'заставить', 'Евгения', 'Баженова', 'прекратить', 'публиковать', 'свои', 'обзоры', '—', 'это,', 'если', 'уж', 'называть', 'вещи', 'своими', 'именами,', 'трусость,', 'непрофессионализм', 'и', 'цензура»,', '—', 'заявил', 'он']), (0.04010960562004611, ['Блогер', 'утверждает,', 'что', 'представители', 'KINODANZ', 'говорили', 'ему,', 'что', 'за', 'компанией', '«стоят', 'очень', 'влиятельные', 'люди»', 'и', 'ее', 'поддерживает', 'Минкульт', 'РФ']), (0.026874266491656487, ['По', 'словам', 'Баженова,', 'его', 'обвиняют', 'в', 'нарушении', 'авторских', 'прав', 'из-за', 'того,', 'что', 'в', 'своем', 'обзоре', 'он', 'использовал', 'кадры', 'из', 'киноленты']), (0.01612903225806471, ['Об', 'этом', 'Баженов', 'рассказал', 'в', 'ролике', 'на', 'ютьюбе']), (0.01612903225806471, ['«Здравствуйте'])]\n",
      "Summarized Text: \n",
      " BadComedian выпустил обзор на фильм «За гранью реальности» в мае 2018 года. Видеоблогер BadComedian (Евгений Баженов) заявил, что против него подали судебный иск на один миллион рублей из-за обзора фильма «За гранью реальности». Иск в январе 2019 года подала кинокомпания KINODANZ (с 2019 года KD Studios), снявшая фильм «За гранью реальности»\n"
     ]
    },
    {
     "name": "stderr",
     "output_type": "stream",
     "text": [
      "/usr/local/lib/python3.6/dist-packages/networkx/drawing/nx_pylab.py:579: MatplotlibDeprecationWarning: \n",
      "The iterable function was deprecated in Matplotlib 3.1 and will be removed in 3.3. Use np.iterable instead.\n",
      "  if not cb.iterable(width):\n"
     ]
    },
    {
     "data": {
      "image/png": "[encoded data removed]",
      "text/plain": [
       "<Figure size 432x288 with 1 Axes>"
      ]
     },
     "metadata": {},
     "output_type": "display_data"
    }
   ],
   "source": [
    "generate_summary(df['text'][33], 3)"
   ]
  },
  {
   "cell_type": "markdown",
   "metadata": {},
   "source": [
    "#### Basic method already gives decent results."
   ]
  },
  {
   "cell_type": "markdown",
   "metadata": {},
   "source": [
    "## Method 2 (with sklearn tools)\n",
    "\n",
    "source: https://joshbohde.com/blog/document-summarization/"
   ]
  },
  {
   "cell_type": "code",
   "execution_count": 38,
   "metadata": {},
   "outputs": [],
   "source": [
    "def textrank(document):\n",
    "    sentence_tokenizer = PunktSentenceTokenizer()\n",
    "    sentences = sentence_tokenizer.tokenize(document)\n",
    " \n",
    "    bow_matrix = CountVectorizer().fit_transform(sentences)\n",
    "    normalized = TfidfTransformer().fit_transform(bow_matrix)\n",
    " \n",
    "    similarity_graph = normalized * normalized.T\n",
    " \n",
    "    nx_graph = nx.from_scipy_sparse_matrix(similarity_graph)\n",
    "    # nx.draw_networkx(nx_graph)\n",
    "    scores = nx.pagerank(nx_graph)\n",
    "    return sorted(((scores[i],s) for i,s in enumerate(sentences)),\n",
    "                  reverse=True)"
   ]
  },
  {
   "cell_type": "code",
   "execution_count": 9,
   "metadata": {},
   "outputs": [
    {
     "name": "stderr",
     "output_type": "stream",
     "text": [
      "/usr/local/lib/python3.6/dist-packages/networkx/drawing/nx_pylab.py:579: MatplotlibDeprecationWarning: \n",
      "The iterable function was deprecated in Matplotlib 3.1 and will be removed in 3.3. Use np.iterable instead.\n",
      "  if not cb.iterable(width):\n"
     ]
    },
    {
     "name": "stdout",
     "output_type": "stream",
     "text": [
      "Видеоблогер BadComedian (Евгений Баженов) заявил, что против него подали судебный иск на один миллион рублей из-за обзора фильма «За гранью реальности».\n",
      "BadComedian выпустил обзор на фильм «За гранью реальности» в мае 2018 года.\n",
      "Иск в январе 2019 года подала кинокомпания KINODANZ (с 2019 года KD Studios), снявшая фильм «За гранью реальности».\n"
     ]
    },
    {
     "data": {
      "image/png": "[encoded data removed]",
      "text/plain": [
       "<Figure size 432x288 with 1 Axes>"
      ]
     },
     "metadata": {},
     "output_type": "display_data"
    }
   ],
   "source": [
    "for text in textrank(df['text'][33])[:3]:\n",
    "    print(text[1])"
   ]
  },
  {
   "cell_type": "markdown",
   "metadata": {},
   "source": [
    "#### Because of another weighting results are different sometimes."
   ]
  },
  {
   "cell_type": "markdown",
   "metadata": {},
   "source": [
    "## Method 3 (with pretrained embeddings)\n",
    "\n",
    "source: https://www.analyticsvidhya.com/blog/2018/11/introduction-text-summarization-textrank-python/"
   ]
  },
  {
   "cell_type": "code",
   "execution_count": 10,
   "metadata": {},
   "outputs": [],
   "source": [
    "# !wget https://dl.fbaipublicfiles.com/fasttext/vectors-crawl/cc.ru.300.vec.gz\n",
    "# !gzip -d cc.ru.300.vec.gz"
   ]
  },
  {
   "cell_type": "code",
   "execution_count": 11,
   "metadata": {},
   "outputs": [],
   "source": [
    "word_embeddings = {}\n",
    "f = open('cc.ru.300.vec')\n",
    "for line in f:\n",
    "    values = line.split()\n",
    "    word = values[0]\n",
    "    coefs = np.asarray(values[1:], dtype='float32')\n",
    "    word_embeddings[word] = coefs\n",
    "f.close()"
   ]
  },
  {
   "cell_type": "code",
   "execution_count": 12,
   "metadata": {},
   "outputs": [
    {
     "data": {
      "text/plain": [
       "2000000"
      ]
     },
     "execution_count": 12,
     "metadata": {},
     "output_type": "execute_result"
    }
   ],
   "source": [
    "len(word_embeddings)"
   ]
  },
  {
   "cell_type": "code",
   "execution_count": 13,
   "metadata": {},
   "outputs": [],
   "source": [
    "def preprocess(text):\n",
    "    stop_words = stopwords.words('russian')\n",
    "    sentence_tokenizer = PunktSentenceTokenizer()\n",
    "    sentences = sentence_tokenizer.tokenize(text)\n",
    "    tokens = [wordpunct_tokenize(sentence) for sentence in sentences]\n",
    "    clean_sentences = [[token.lower() for token in tokenized if token not in string.punctuation+'«»—».»,'\n",
    "                       and token not in stop_words] \n",
    "                       for tokenized in tokens]\n",
    "\n",
    "    return sentences, [' '.join(sentence) for sentence in clean_sentences]"
   ]
  },
  {
   "cell_type": "code",
   "execution_count": 14,
   "metadata": {},
   "outputs": [],
   "source": [
    "sentences, processed_sentences = preprocess(df['text'][33])"
   ]
  },
  {
   "cell_type": "code",
   "execution_count": 15,
   "metadata": {},
   "outputs": [],
   "source": [
    "sentence_vectors = []\n",
    "for i in processed_sentences:\n",
    "    if len(i) != 0:\n",
    "        v = sum([word_embeddings.get(w, np.zeros((300,))) for w in i.split()])/(len(i.split()))\n",
    "    else:\n",
    "        v = np.zeros((300,))\n",
    "    \n",
    "    sentence_vectors.append(v)"
   ]
  },
  {
   "cell_type": "code",
   "execution_count": 16,
   "metadata": {},
   "outputs": [],
   "source": [
    "sim_mat = np.zeros([len(sentences), len(sentences)])"
   ]
  },
  {
   "cell_type": "code",
   "execution_count": 17,
   "metadata": {},
   "outputs": [],
   "source": [
    "from sklearn.metrics.pairwise import cosine_similarity"
   ]
  },
  {
   "cell_type": "code",
   "execution_count": 18,
   "metadata": {},
   "outputs": [],
   "source": [
    "for i in range(len(sentences)):\n",
    "    for j in range(len(sentences)):\n",
    "        if i != j:\n",
    "            sim_mat[i][j] = cosine_similarity(sentence_vectors[i].reshape(1,300), sentence_vectors[j].reshape(1,300))[0,0]"
   ]
  },
  {
   "cell_type": "code",
   "execution_count": 19,
   "metadata": {},
   "outputs": [],
   "source": [
    "nx_graph = nx.from_numpy_array(sim_mat)\n",
    "scores = nx.pagerank(nx_graph)"
   ]
  },
  {
   "cell_type": "code",
   "execution_count": 20,
   "metadata": {},
   "outputs": [
    {
     "name": "stderr",
     "output_type": "stream",
     "text": [
      "/usr/local/lib/python3.6/dist-packages/networkx/drawing/nx_pylab.py:579: MatplotlibDeprecationWarning: \n",
      "The iterable function was deprecated in Matplotlib 3.1 and will be removed in 3.3. Use np.iterable instead.\n",
      "  if not cb.iterable(width):\n"
     ]
    },
    {
     "data": {
      "image/png": "[encoded data removed]",
      "text/plain": [
       "<Figure size 432x288 with 1 Axes>"
      ]
     },
     "metadata": {},
     "output_type": "display_data"
    }
   ],
   "source": [
    "nx.draw_networkx(nx_graph)"
   ]
  },
  {
   "cell_type": "code",
   "execution_count": 21,
   "metadata": {},
   "outputs": [],
   "source": [
    "ranked_sentences = sorted(((scores[i],s) for i,s in enumerate(sentences)), reverse=True)"
   ]
  },
  {
   "cell_type": "code",
   "execution_count": 22,
   "metadata": {},
   "outputs": [
    {
     "name": "stdout",
     "output_type": "stream",
     "text": [
      "Видеоблогер BadComedian (Евгений Баженов) заявил, что против него подали судебный иск на один миллион рублей из-за обзора фильма «За гранью реальности».\n",
      "В своем ролике автор, в частности, критиковал министерство культуры и Фонд кино за выделение средств на съемки этой картины.\n",
      "«Попытки заставить Евгения Баженова прекратить публиковать свои обзоры — это, если уж называть вещи своими именами, трусость, непрофессионализм и цензура», — заявил он.\n"
     ]
    }
   ],
   "source": [
    "for i in range(3):\n",
    "    print(ranked_sentences[i][1])"
   ]
  },
  {
   "cell_type": "markdown",
   "metadata": {},
   "source": [
    "#### The graph looks much more dense probably because of preprocessing and the results are quite strange and less logical than in previous methods."
   ]
  },
  {
   "cell_type": "markdown",
   "metadata": {},
   "source": [
    "## Method 4 - SummaNLP"
   ]
  },
  {
   "cell_type": "code",
   "execution_count": 23,
   "metadata": {},
   "outputs": [],
   "source": [
    "from summa.summarizer import summarize"
   ]
  },
  {
   "cell_type": "code",
   "execution_count": 27,
   "metadata": {},
   "outputs": [
    {
     "data": {
      "text/plain": [
       "['Видеоблогер BadComedian (Евгений Баженов) заявил, что против него подали судебный иск на один миллион рублей из-за обзора фильма «За гранью реальности».',\n",
       " 'Иск в январе 2019 года подала кинокомпания KINODANZ (с 2019 года KD Studios), снявшая фильм «За гранью реальности».',\n",
       " 'BadComedian выпустил обзор на фильм «За гранью реальности» в мае 2018 года.',\n",
       " 'В своем ролике автор, в частности, критиковал министерство культуры и Фонд кино за выделение средств на съемки этой картины.']"
      ]
     },
     "execution_count": 27,
     "metadata": {},
     "output_type": "execute_result"
    }
   ],
   "source": [
    "summarize(df['text'][33], language='russian', ratio=0.3).split('\\n')"
   ]
  },
  {
   "cell_type": "markdown",
   "metadata": {},
   "source": [
    "## Evaluation"
   ]
  },
  {
   "cell_type": "markdown",
   "metadata": {},
   "source": [
    "### Average text cosine similarity"
   ]
  },
  {
   "cell_type": "code",
   "execution_count": 133,
   "metadata": {},
   "outputs": [],
   "source": [
    "text = df['text'][33]\n",
    "summary1 = generate_summary(text, 4)\n",
    "summary2 = [text[1] for text in textrank(text)[:4]]\n",
    "summary3 = [ranked_sentences[i][1] for i in range(4)]\n",
    "summary4 = summarize(text, language='russian', ratio=0.3).split('\\n')"
   ]
  },
  {
   "cell_type": "code",
   "execution_count": 114,
   "metadata": {},
   "outputs": [],
   "source": [
    "def preprocess(text):\n",
    "    stop_words = stopwords.words('russian')\n",
    "    sentence_tokenizer = PunktSentenceTokenizer()\n",
    "    sentences = sentence_tokenizer.tokenize(text)\n",
    "    tokens = [wordpunct_tokenize(sentence) for sentence in sentences]\n",
    "    clean_sentences = [[token.lower() for token in tokenized if token not in string.punctuation+'«»—».»,'\n",
    "                       and token not in stop_words] \n",
    "                       for tokenized in tokens]\n",
    "\n",
    "    return [' '.join(sentence) for sentence in clean_sentences]"
   ]
  },
  {
   "cell_type": "code",
   "execution_count": 149,
   "metadata": {},
   "outputs": [],
   "source": [
    "from deeppavlov.models.embedders.elmo_embedder import ELMoEmbedder\n",
    "from scipy import spatial"
   ]
  },
  {
   "cell_type": "code",
   "execution_count": 129,
   "metadata": {},
   "outputs": [],
   "source": [
    "elmo = ELMoEmbedder(\"http://files.deeppavlov.ai/deeppavlov_data/elmo_ru-news_wmt11-16_1.5M_steps.tar.gz\")"
   ]
  },
  {
   "cell_type": "code",
   "execution_count": 135,
   "metadata": {},
   "outputs": [],
   "source": [
    "text_vector = elmo([' '.join(preprocess(text)).split()])"
   ]
  },
  {
   "cell_type": "code",
   "execution_count": 139,
   "metadata": {},
   "outputs": [],
   "source": [
    "summary1_vector = elmo([' '.join(preprocess(' '.join(summary1))).split()])\n",
    "summary2_vector = elmo([' '.join(preprocess(' '.join(summary2))).split()])\n",
    "summary3_vector = elmo([' '.join(preprocess(' '.join(summary3))).split()])\n",
    "summary4_vector = elmo([' '.join(preprocess(' '.join(summary4))).split()])"
   ]
  },
  {
   "cell_type": "code",
   "execution_count": 152,
   "metadata": {},
   "outputs": [
    {
     "name": "stdout",
     "output_type": "stream",
     "text": [
      "Cosine similarity between text and summary1: [[0.91503458]]\n",
      "Cosine similarity between text and summary2: [[0.8473257]]\n",
      "Cosine similarity between text and summary3: [[0.91027985]]\n",
      "Cosine similarity between text and summary4: [[0.89512718]]\n"
     ]
    }
   ],
   "source": [
    "print('Cosine similarity between text and summary1:', 1-spatial.distance.cdist(text_vector, summary1_vector, 'cosine'))\n",
    "print('Cosine similarity between text and summary2:', 1-spatial.distance.cdist(text_vector, summary2_vector, 'cosine'))\n",
    "print('Cosine similarity between text and summary3:', 1-spatial.distance.cdist(text_vector, summary3_vector, 'cosine'))\n",
    "print('Cosine similarity between text and summary4:', 1-spatial.distance.cdist(text_vector, summary4_vector, 'cosine'))"
   ]
  },
  {
   "cell_type": "markdown",
   "metadata": {},
   "source": [
    "#### Best results are shown for the basic method and for method with embeddings"
   ]
  },
  {
   "cell_type": "markdown",
   "metadata": {},
   "source": [
    "### Keyword extraction"
   ]
  },
  {
   "cell_type": "code",
   "execution_count": 115,
   "metadata": {},
   "outputs": [],
   "source": [
    "from summa import keywords"
   ]
  },
  {
   "cell_type": "code",
   "execution_count": 140,
   "metadata": {},
   "outputs": [
    {
     "name": "stdout",
     "output_type": "stream",
     "text": [
      "своими\n",
      "своем обзоре\n",
      "свои обзоры\n",
      "обзор\n",
      "иск\n",
      "года подала\n",
      "подали\n",
      "поданный\n",
      "badcomedian евгений баженов заявил\n",
      "обзора фильма\n",
      "ролике\n",
      "реальности\n",
      "баженова\n",
      "блогер\n",
      "kinodanz\n",
      "попыткой\n",
      "попытки\n",
      "в\n",
      "евгения\n",
      "съемки\n",
      "фильм\n"
     ]
    }
   ],
   "source": [
    "processed_text = '. '.join(preprocess(text))\n",
    "keywords_txt = keywords.keywords(processed_text, language='russian')\n",
    "print(keywords_txt)"
   ]
  },
  {
   "cell_type": "code",
   "execution_count": 141,
   "metadata": {},
   "outputs": [
    {
     "name": "stdout",
     "output_type": "stream",
     "text": [
      "года\n",
      "badcomedian\n",
      "реальности\n",
      "подали\n",
      "подала\n",
      "иск\n",
      "обзор фильм\n",
      "обзора фильма\n"
     ]
    }
   ],
   "source": [
    "processed_summary1 = '. '.join(preprocess(' '.join(summary1)))\n",
    "keywords_1 = keywords.keywords(processed_summary1, language='russian')\n",
    "print(keywords_1)"
   ]
  },
  {
   "cell_type": "code",
   "execution_count": 142,
   "metadata": {},
   "outputs": [
    {
     "name": "stdout",
     "output_type": "stream",
     "text": [
      "года\n",
      "badcomedian\n",
      "реальности\n",
      "подали\n",
      "подала\n",
      "иск\n"
     ]
    }
   ],
   "source": [
    "processed_summary2 = '. '.join(preprocess(' '.join(summary2)))\n",
    "keywords_2 = keywords.keywords(processed_summary2, language='russian')\n",
    "print(keywords_2)"
   ]
  },
  {
   "cell_type": "code",
   "execution_count": 143,
   "metadata": {},
   "outputs": [
    {
     "name": "stdout",
     "output_type": "stream",
     "text": [
      "своем\n",
      "своими\n",
      "свои обзоры\n",
      "обзора\n",
      "обзоре\n",
      "евгений\n",
      "заявил\n",
      "евгения баженова\n",
      "кадры\n",
      "культуры фонд кино выделение\n"
     ]
    }
   ],
   "source": [
    "processed_summary3 = '. '.join(preprocess(' '.join(summary3)))\n",
    "keywords_3 = keywords.keywords(processed_summary3, language='russian')\n",
    "print(keywords_3)"
   ]
  },
  {
   "cell_type": "code",
   "execution_count": 144,
   "metadata": {},
   "outputs": [
    {
     "name": "stdout",
     "output_type": "stream",
     "text": [
      "года подала\n",
      "badcomedian\n",
      "подали\n",
      "реальности\n",
      "иск\n",
      "фильм\n",
      "обзора фильма\n",
      "обзор\n"
     ]
    }
   ],
   "source": [
    "processed_summary4 = '. '.join(preprocess(' '.join(summary4)))\n",
    "keywords_4 = keywords.keywords(processed_summary4, language='russian')\n",
    "print(keywords_4)"
   ]
  },
  {
   "cell_type": "code",
   "execution_count": 145,
   "metadata": {},
   "outputs": [
    {
     "name": "stdout",
     "output_type": "stream",
     "text": [
      "Intersection of text and summary1 keywords:  {'реальности', 'подали', 'иск', 'обзора фильма'}\n"
     ]
    }
   ],
   "source": [
    "print(\"Intersection of text and summary1 keywords: \", set(keywords_txt.split('\\n')).intersection(set(keywords_1.split('\\n'))))"
   ]
  },
  {
   "cell_type": "code",
   "execution_count": 146,
   "metadata": {},
   "outputs": [
    {
     "name": "stdout",
     "output_type": "stream",
     "text": [
      "Intersection of text and summary2 keywords:  {'реальности', 'иск', 'подали'}\n"
     ]
    }
   ],
   "source": [
    "print(\"Intersection of text and summary2 keywords: \", set(keywords_txt.split('\\n')).intersection(set(keywords_2.split('\\n'))))"
   ]
  },
  {
   "cell_type": "code",
   "execution_count": 147,
   "metadata": {},
   "outputs": [
    {
     "name": "stdout",
     "output_type": "stream",
     "text": [
      "Intersection of text and summary3 keywords:  {'своими', 'свои обзоры'}\n"
     ]
    }
   ],
   "source": [
    "print(\"Intersection of text and summary3 keywords: \", set(keywords_txt.split('\\n')).intersection(set(keywords_3.split('\\n'))))"
   ]
  },
  {
   "cell_type": "code",
   "execution_count": 148,
   "metadata": {},
   "outputs": [
    {
     "name": "stdout",
     "output_type": "stream",
     "text": [
      "Intersection of text and summary4 keywords:  {'фильм', 'обзора фильма', 'иск', 'обзор', 'реальности', 'года подала', 'подали'}\n"
     ]
    }
   ],
   "source": [
    "print(\"Intersection of text and summary4 keywords: \", set(keywords_txt.split('\\n')).intersection(set(keywords_4.split('\\n'))))"
   ]
  },
  {
   "cell_type": "markdown",
   "metadata": {},
   "source": [
    "#### TextRank by SummaNLP seems to work best, but probably because it is the same algorithm as for these keywords extraction"
   ]
  },
  {
   "cell_type": "code",
   "execution_count": null,
   "metadata": {},
   "outputs": [],
   "source": []
  }
 ],
 "metadata": {
  "kernelspec": {
   "display_name": "Python 3",
   "language": "python",
   "name": "python3"
  },
  "language_info": {
   "codemirror_mode": {
    "name": "ipython",
    "version": 3
   },
   "file_extension": ".py",
   "mimetype": "text/x-python",
   "name": "python",
   "nbconvert_exporter": "python",
   "pygments_lexer": "ipython3",
   "version": "3.6.9"
  }
 },
 "nbformat": 4,
 "nbformat_minor": 2
}
